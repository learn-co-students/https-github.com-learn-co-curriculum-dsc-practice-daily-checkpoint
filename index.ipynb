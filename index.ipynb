{
 "cells": [
  {
   "cell_type": "markdown",
   "metadata": {
    "nbgrader": {
     "grade": false,
     "grade_id": "58c5d138de0cf674aaa9b0286bb12bca",
     "locked": true,
     "schema_version": 3,
     "solution": false,
     "task": false
    }
   },
   "source": [
    "# Data Science Practice Daily Checkpoint\n",
    "\n",
    "This assignment is designed to test your understanding of the daily checkpoint process. It covers:\n",
    "\n",
    " - Anwering a code question\n",
    " - Answering a short answer question\n",
    " \n",
    "Read the instructions carefully. You will be asked both to write code and to respond to a short answer question.\n",
    "\n",
    "**Note on daily checkpoint short answer questions:** Please use your own words. The expectation is that you have not copied and pasted from an external source, even if you consult another source to help craft your response. While the short answer questions are not necessarily being assessed on grammatical correctness or sentence structure, you should do your best to communicate yourself clearly."
   ]
  },
  {
   "cell_type": "markdown",
   "metadata": {
    "nbgrader": {
     "grade": false,
     "grade_id": "dbc759291e61caa3abff81965d58106d",
     "locked": true,
     "schema_version": 3,
     "solution": false,
     "task": false
    }
   },
   "source": [
    "## Imports\n",
    "\n",
    "You will usually have to import different packages into a checkpoint or other material we give you\n",
    "\n",
    "Don't worry if you don't have all the mechanics about what that means at this point\n",
    "\n",
    "Just run the cell below, which allows the test code to function"
   ]
  },
  {
   "cell_type": "markdown",
   "metadata": {
    "nbgrader": {
     "grade": false,
     "grade_id": "89300e37881c21a479089ce596b6b69f",
     "locked": true,
     "schema_version": 3,
     "solution": false,
     "task": false
    }
   },
   "source": [
    "## Question 1\n",
    "\n",
    "Copy and paste the given `greet_user` code into a cell below.\n",
    "\n",
    "Adapt the function to do the following:\n",
    "\n",
    " - take a name as an argument\n",
    " - print \"Greetings! I am `name` and I am pleased to make your acquaintance!\"\n",
    "\n",
    "Then in the next cell, assign the name \"Gene Hackman\" to the variable `name`.\n",
    "\n",
    "Run all cells to confirm the result."
   ]
  },
  {
   "cell_type": "code",
   "execution_count": 53,
   "metadata": {
    "nbgrader": {
     "grade": false,
     "grade_id": "fa5705a847273d0bcc7f560c64ac37cb",
     "locked": true,
     "schema_version": 3,
     "solution": false,
     "task": false
    }
   },
   "outputs": [],
   "source": [
    "# Copy / paste this starter code into a cell below\n",
    "# Modify the code in this cell to use in your answer\n",
    "# (Replace None with appropriate code)\n",
    "\n",
    "def greet_user(name):\n",
    "    \"\"\"\n",
    "    this function takes a string name as an argument \n",
    "    and prints a greeting including that name \n",
    "    \"\"\"\n",
    "    \n",
    "    statement = None\n",
    "    \n",
    "    print(statement)\n",
    "    \n",
    "    return statement\n",
    "\n",
    "name = None\n",
    "\n",
    "greet_user(name)"
   ]
  },
  {
   "cell_type": "code",
   "execution_count": 4,
   "metadata": {
    "nbgrader": {
     "grade": false,
     "grade_id": "8bab1003752704573eff153a08d9c5d4",
     "locked": false,
     "schema_version": 3,
     "solution": true,
     "task": false
    }
   },
   "outputs": [],
   "source": [
    "### BEGIN SOLUTION\n",
    "\n",
    "\n",
    "from test_scripts.test_class import Test\n",
    "test = Test()\n",
    "\n",
    "def greet_user(name):\n",
    "    \"\"\"\n",
    "    this function takes a string name as an argument \n",
    "    and prints a greeting including that name \n",
    "    \"\"\"\n",
    "    statement = f\"Greetings! I am {name} and I am pleased to make your acquaintance!\"\n",
    "    print(statement)\n",
    "    \n",
    "    return statement\n",
    "\n",
    "name = \"Gene Hackman\"\n",
    "\n",
    "test.save(greet_user(name), 'gene_hackman')\n",
    "\n",
    "test.save(greet_user('Ben'), 'hard_coding')\n",
    "\n",
    "test.save(greet_user.__code__.co_varnames, 'attributes')\n",
    "\n",
    "\n",
    "\n",
    "### END SOLUTION"
   ]
  },
  {
   "cell_type": "code",
   "execution_count": 56,
   "metadata": {
    "nbgrader": {
     "grade": true,
     "grade_id": "95b0777641098bcd2a9df4c9fb8d4751",
     "locked": true,
     "points": 1,
     "schema_version": 3,
     "solution": false,
     "task": false
    }
   },
   "outputs": [],
   "source": [
    "### BEGIN HIDDEN TESTS\n",
    "\n",
    "try:\n",
    "test.run_test(greet_user(name), 'gene_hackman')   \n",
    "except error:\n",
    "    raise AttributeError (\"Looks like your function didn't work properly?\")\n",
    "\n",
    "name = 'Ben'\n",
    "try:\n",
    "test.run_test(greet_user(name), 'hard_coding')\n",
    "except error:\n",
    "    raise AttributeError (\"Looks like you hard-coded the info instead of making it dynamic?\")\n",
    "    \n",
    "try:\n",
    "    test.run_test(greet_user.__code__.co_varnames, 'attributes')\n",
    "except error:\n",
    "    raise AttributeError (\"Looks like you altered the function?\")\n",
    "\n",
    "\n",
    "### END HIDDEN TESTS"
   ]
  },
  {
   "cell_type": "markdown",
   "metadata": {
    "nbgrader": {
     "grade": false,
     "grade_id": "873bfe5c67915f53800b3d0382a4e6b4",
     "locked": true,
     "schema_version": 3,
     "solution": false,
     "task": false
    }
   },
   "source": [
    "## Question 2\n",
    "\n",
    "Please explain the purpose of daily checkpoints and code challenges in the Flatiron School Data Science program."
   ]
  },
  {
   "cell_type": "markdown",
   "metadata": {
    "nbgrader": {
     "grade": true,
     "grade_id": "db75efa6fb1db7129194fbbfb2968f32",
     "locked": false,
     "points": 1,
     "schema_version": 3,
     "solution": true,
     "task": false
    }
   },
   "source": [
    "=== BEGIN MARK SCHEME ===\n",
    "\n",
    "\"\"\"The purpose of assessments are to assess a student's comprehension and application of our Data Science program's key content.\n",
    "Daily checkpoints are formative, in-depth assessments\n",
    "Code challenges are summative, end-to-end assessments\"\"\"\n",
    "\n",
    "=== END MARK SCHEME ==="
   ]
  }
 ],
 "metadata": {
  "kernelspec": {
   "display_name": "Python 3",
   "language": "python",
   "name": "python3"
  },
  "language_info": {
   "codemirror_mode": {
    "name": "ipython",
    "version": 3
   },
   "file_extension": ".py",
   "mimetype": "text/x-python",
   "name": "python",
   "nbconvert_exporter": "python",
   "pygments_lexer": "ipython3",
   "version": "3.7.4"
  }
 },
 "nbformat": 4,
 "nbformat_minor": 4
}
